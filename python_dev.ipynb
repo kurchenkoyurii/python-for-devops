{
  "nbformat": 4,
  "nbformat_minor": 0,
  "metadata": {
    "colab": {
      "provenance": [],
      "authorship_tag": "ABX9TyNoA3xfMrQyoZ9ZFKOikL3I",
      "include_colab_link": true
    },
    "kernelspec": {
      "name": "python3",
      "display_name": "Python 3"
    },
    "language_info": {
      "name": "python"
    }
  },
  "cells": [
    {
      "cell_type": "markdown",
      "metadata": {
        "id": "view-in-github",
        "colab_type": "text"
      },
      "source": [
        "<a href=\"https://colab.research.google.com/github/kurchenkoyurii/python-for-devops/blob/main/python_dev.ipynb\" target=\"_parent\"><img src=\"https://colab.research.google.com/assets/colab-badge.svg\" alt=\"Open In Colab\"/></a>"
      ]
    },
    {
      "cell_type": "markdown",
      "source": [
        "## Introduction for Python"
      ],
      "metadata": {
        "id": "TuUmIviqydUK"
      }
    },
    {
      "cell_type": "markdown",
      "source": [
        "## Statements in Python\n"
      ],
      "metadata": {
        "id": "PHLoLRSoyyHI"
      }
    },
    {
      "cell_type": "code",
      "execution_count": null,
      "metadata": {
        "id": "-uv2p1FFxn0W"
      },
      "outputs": [],
      "source": [
        "print(\"hello word\")"
      ]
    },
    {
      "cell_type": "code",
      "source": [
        "meal={\"one\":1,\"two\":2}\n",
        "for one,two in meal.items():\n",
        "  print(f'one: {one}, num: {two}')"
      ],
      "metadata": {
        "colab": {
          "base_uri": "https://localhost:8080/"
        },
        "id": "DhOoXvpFznuv",
        "outputId": "2c342210-edd3-4e79-f51b-512ec9e851e1"
      },
      "execution_count": 2,
      "outputs": [
        {
          "output_type": "stream",
          "name": "stdout",
          "text": [
            "one: one, num: 1\n",
            "one: two, num: 2\n"
          ]
        }
      ]
    },
    {
      "cell_type": "code",
      "source": [],
      "metadata": {
        "id": "jg9T-3u0y7IG"
      },
      "execution_count": null,
      "outputs": []
    }
  ]
}